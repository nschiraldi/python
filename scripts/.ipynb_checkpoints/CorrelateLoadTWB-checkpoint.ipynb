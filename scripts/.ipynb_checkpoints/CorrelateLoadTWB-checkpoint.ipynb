{
 "cells": [
  {
   "cell_type": "markdown",
   "metadata": {},
   "source": [
    "# Correlating NYC Wetbulb Temperature and NYC Electricty Use"
   ]
  },
  {
   "cell_type": "markdown",
   "metadata": {},
   "source": [
    "### In today's class, we will look into the correlation between NYC Electricity and NYC Wetbulb Temperature.  The NYC Electricity data was taken from the NYISO database, and Twb is taken from the JFK weather station."
   ]
  },
  {
   "cell_type": "markdown",
   "metadata": {},
   "source": [
    "#### Load the data into python"
   ]
  },
  {
   "cell_type": "code",
   "execution_count": 1,
   "metadata": {
    "collapsed": false
   },
   "outputs": [],
   "source": [
    "import numpy as np\n",
    "\n",
    "electricity = np.loadtxt('../data/NYC_Twb.txt',delimiter =',')\n",
    "Twb = np.loadtxt('../data/NYC_Twb.txt',delimiter = ',')"
   ]
  },
  {
   "cell_type": "markdown",
   "metadata": {},
   "source": [
    "#### Examine the data"
   ]
  },
  {
   "cell_type": "code",
   "execution_count": 2,
   "metadata": {
    "collapsed": false
   },
   "outputs": [
    {
     "name": "stdout",
     "output_type": "stream",
     "text": [
      "The dimensions of the electricity data is (4383, 27)\n",
      "The dimensions of the Twb data is (4383, 27)\n"
     ]
    }
   ],
   "source": [
    "print 'The dimensions of the electricity data is {0}'.format(electricity.shape)\n",
    "print 'The dimensions of the Twb data is {0}'.format(Twb.shape)"
   ]
  },
  {
   "cell_type": "raw",
   "metadata": {},
   "source": [
    "Notice there are 4383 days in the dataset, but what are the columns?"
   ]
  },
  {
   "cell_type": "code",
   "execution_count": 3,
   "metadata": {
    "collapsed": false
   },
   "outputs": [
    {
     "name": "stdout",
     "output_type": "stream",
     "text": [
      "2002.0,1.0,1.0\n"
     ]
    }
   ],
   "source": [
    "print '{0},{1},{2}'.format(electricity[0,0],electricity[0,1],electricity[0,2])"
   ]
  },
  {
   "cell_type": "raw",
   "metadata": {},
   "source": [
    "So, the first three columns are year, month, day, and the next 24 columns are the electricity load at each hour, for a given day. "
   ]
  },
  {
   "cell_type": "markdown",
   "metadata": {},
   "source": [
    "## Plot the data"
   ]
  },
  {
   "cell_type": "raw",
   "metadata": {},
   "source": [
    "Since our data is [year, month, day, hour1,...,hour24] we will need to introduce a new type of plot.  Instead of plotting a line, we will plot a filled contour plot, where the x-axis is hour, and the y-axis is day of year.  But first, we'll want to be able to plot the correct dates along the y-axis.  In order to do so, we'll need to make an array of the dates."
   ]
  },
  {
   "cell_type": "code",
   "execution_count": 4,
   "metadata": {
    "collapsed": false
   },
   "outputs": [],
   "source": [
    "import matplotlib.dates as dates\n",
    "import datetime as dt\n",
    "dateList = dates.num2date(dates.drange(dt.datetime(2002,1,1),dt.datetime(2013,12,31),dt.timedelta(1)))\n",
    "dateStrings = [n.strftime('%Y-%m-%d') for n in dateList]"
   ]
  },
  {
   "cell_type": "code",
   "execution_count": 16,
   "metadata": {
    "collapsed": false
   },
   "outputs": [],
   "source": [
    "import matplotlib.pyplot as plt\n",
    "plt.subplot(121)\n",
    "plt.contourf(electricity[0:365*2,3:])\n",
    "plt.colorbar(orientation = 'horizontal')\n",
    "plt.title('Electicity Load')\n",
    "labels = dateStrings[0:365*2:90]\n",
    "plt.yticks(np.arange(0,365*2 + 1,90),labels)\n",
    "plt.xlabel('Hour of Day')\n",
    "plt.subplot(122)\n",
    "plt.contourf(Twb[0:365*2,3:])\n",
    "plt.colorbar(orientation = 'horizontal')\n",
    "plt.title('Electicity Load')\n",
    "labels = dateStrings[0:365*2:90]\n",
    "plt.xlabel('Hour of Day')\n",
    "plt.tick_params(axis = 'y',labelleft = 'off')\n"
   ]
  },
  {
   "cell_type": "code",
   "execution_count": null,
   "metadata": {
    "collapsed": false
   },
   "outputs": [],
   "source": []
  },
  {
   "cell_type": "code",
   "execution_count": null,
   "metadata": {
    "collapsed": true
   },
   "outputs": [],
   "source": []
  }
 ],
 "metadata": {
  "kernelspec": {
   "display_name": "Python 2",
   "language": "python",
   "name": "python2"
  },
  "language_info": {
   "codemirror_mode": {
    "name": "ipython",
    "version": 2
   },
   "file_extension": ".py",
   "mimetype": "text/x-python",
   "name": "python",
   "nbconvert_exporter": "python",
   "pygments_lexer": "ipython2",
   "version": "2.7.6"
  }
 },
 "nbformat": 4,
 "nbformat_minor": 0
}
