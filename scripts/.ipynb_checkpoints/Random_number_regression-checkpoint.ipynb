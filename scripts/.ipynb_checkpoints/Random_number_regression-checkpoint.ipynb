{
 "cells": [
  {
   "cell_type": "markdown",
   "metadata": {},
   "source": [
    "# Intro to Regression"
   ]
  },
  {
   "cell_type": "markdown",
   "metadata": {},
   "source": [
    "We will generate a list of random numbers, and then use sin and cos waves to fit the randomly generated data."
   ]
  },
  {
   "cell_type": "code",
   "execution_count": 60,
   "metadata": {
    "collapsed": false
   },
   "outputs": [],
   "source": [
    "#  Predict random data, using random data\n",
    "import numpy as np\n",
    "import matplotlib.pyplot as plt\n",
    "\n",
    "Y = np.random.randint(0,100,(30)).T\n",
    "X = np.ones((30,1))\n",
    "t = np.arange(0,30)\n",
    "prediction = np.zeros((17,30))\n",
    "\n",
    "for pred in xrange(1,17):\n",
    "    sinPredictor = np.array((np.sin((2 * np.pi * pred * t)/30),\n",
    "              np.cos((2 * np.pi * pred * t)/30))).T\n",
    "    X = np.append(X,sinPredictor,axis = 1)\n",
    "    coeffs = np.linalg.lstsq(X,Y)[0] \n",
    "    prediction[pred,:] = np.dot(X,coeffs)"
   ]
  },
  {
   "cell_type": "code",
   "execution_count": 62,
   "metadata": {
    "collapsed": false
   },
   "outputs": [],
   "source": [
    "import numpy as np\n",
    "import matplotlib.pyplot as plt\n",
    "from matplotlib.widgets import Button\n",
    "\n",
    "fig, ax = plt.subplots()\n",
    "plt.subplots_adjust(bottom=0.2)\n",
    "t = np.arange(0.0, 1.0, 0.001)\n",
    "plt.plot(Y,'r')\n",
    "l, = plt.plot(prediction[0,:], 'b',lw = 2,visible = False)\n",
    "plt.legend(('Random Data','Regressed Data'),0)\n",
    "\n",
    "class Index:\n",
    "    ind = 0\n",
    "    def next(self, event):\n",
    "        self.ind += 1\n",
    "        i = self.ind % len(prediction)\n",
    "        ydata = prediction[i,:]\n",
    "        l.set_ydata(ydata)\n",
    "        l.set_visible(True)\n",
    "        plt.title('Harmonics: {0}'.format(i))\n",
    "        plt.draw()\n",
    "\n",
    "    def prev(self, event):\n",
    "        self.ind -= 1\n",
    "        i = self.ind % len(prediction)\n",
    "        ydata = prediction[i,:]\n",
    "        l.set_ydata(ydata)\n",
    "        l.set_visible(True)\n",
    "        plt.title('Harmonics: {0}'.format(i))\n",
    "        plt.draw()\n",
    "\n",
    "callback = Index()\n",
    "axprev = plt.axes([0.7, 0.05, 0.1, 0.075])\n",
    "axnext = plt.axes([0.81, 0.05, 0.1, 0.075])\n",
    "bnext = Button(axnext, 'Next')\n",
    "bnext.on_clicked(callback.next)\n",
    "bprev = Button(axprev, 'Previous')\n",
    "bprev.on_clicked(callback.prev)\n",
    "\n",
    "plt.show()"
   ]
  },
  {
   "cell_type": "code",
   "execution_count": null,
   "metadata": {
    "collapsed": true
   },
   "outputs": [],
   "source": []
  }
 ],
 "metadata": {
  "kernelspec": {
   "display_name": "Python 2",
   "language": "python",
   "name": "python2"
  },
  "language_info": {
   "codemirror_mode": {
    "name": "ipython",
    "version": 2
   },
   "file_extension": ".py",
   "mimetype": "text/x-python",
   "name": "python",
   "nbconvert_exporter": "python",
   "pygments_lexer": "ipython2",
   "version": "2.7.6"
  }
 },
 "nbformat": 4,
 "nbformat_minor": 0
}
